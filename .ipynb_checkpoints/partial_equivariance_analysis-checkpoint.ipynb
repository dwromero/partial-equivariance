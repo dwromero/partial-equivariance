{
 "cells": [
  {
   "cell_type": "code",
   "execution_count": 5,
   "metadata": {},
   "outputs": [],
   "source": [
    "import torch\n",
    "import wandb\n",
    "import json\n",
    "import os\n",
    "\n",
    "from torchvision.transforms import InterpolationMode\n",
    "import torchvision.transforms.functional as tv_F\n",
    "\n",
    "from omegaconf import OmegaConf\n",
    "\n",
    "from model_constructor import construct_model\n",
    "from datasets import MNIST6_180"
   ]
  },
  {
   "cell_type": "code",
   "execution_count": 6,
   "metadata": {
    "pycharm": {
     "name": "#%%\n"
    }
   },
   "outputs": [],
   "source": [
    "# Get the template of the config file used in the experiments\n",
    "partial_equiv_source = os.path.join(os.getcwd())\n",
    "config_template = OmegaConf.load(os.path.join(partial_equiv_source, 'cfg/config.yaml'))"
   ]
  },
  {
   "cell_type": "markdown",
   "metadata": {
    "pycharm": {
     "name": "#%% md\n"
    }
   },
   "source": [
    "#### Restore metadata"
   ]
  },
  {
   "cell_type": "code",
   "execution_count": 7,
   "metadata": {
    "pycharm": {
     "name": "#%%\n"
    }
   },
   "outputs": [],
   "source": [
    "rot_interval = 45\n",
    "\n",
    "run_paths = {\n",
    "    45: 'dwromero/partial_equiv/j6d7o600',\n",
    "    60: 'dwromero/partial_equiv/kyqsdgsj',\n",
    "}\n",
    "run_path = run_paths[rot_interval]"
   ]
  },
  {
   "cell_type": "code",
   "execution_count": 8,
   "metadata": {
    "pycharm": {
     "name": "#%%\n"
    }
   },
   "outputs": [],
   "source": [
    "used_args = wandb.restore(\n",
    "    'wandb-metadata.json', run_path,\n",
    ")\n",
    "used_args = json.load(used_args)\n",
    "used_args = OmegaConf.merge(config_template, OmegaConf.from_dotlist(used_args['args']))"
   ]
  },
  {
   "cell_type": "code",
   "execution_count": 9,
   "metadata": {
    "pycharm": {
     "name": "#%%\n"
    }
   },
   "outputs": [
    {
     "data": {
      "text/plain": [
       "{'net': {'type': 'CKResNet', 'no_hidden': 10, 'no_blocks': 1, 'dropout': 0, 'norm': 'LayerNorm', 'bottleneck_factor_skip_connection': 2, 'block_width_factors': [0.0], 'pool_blocks': [1], 'last_conv_T2': False, 'learnable_final_pooling': False, 'final_spatial_dim': [1, 1]}, 'conv': {'padding': 'same', 'partial_equiv': True, 'bias': True}, 'kernel': {'type': 'SIREN', 'no_hidden': 32, 'no_layers': 3, 'size': 7, 'omega0': 10, 'learn_omega0': False, 'weight_norm': False, 'norm': '', 'activation': ''}, 'base_group': {'name': 'SE2', 'no_samples': 4, 'sample_per_batch_element': False, 'sample_per_layer': True, 'sampling_method': 'random', 'gumbel_init_temp': 0.5, 'gumbel_end_temp': 0.0001}, 'train': {'do': True, 'batch_size': 64, 'epochs': 300, 'lr': 0.001, 'lr_probs': 0.0, 'lr_omega0': 0.0, 'gradient_clip': 0.0, 'weight_decay': 0, 'optimizer': 'Adam', 'optimizer_params': {'nesterov': None, 'momentum': None}, 'scheduler': None, 'scheduler_params': {'decay_steps': -1, 'decay_factor': -1, 'patience': -1, 'warmup_epochs': -1}, 'warm_decay': 0.0, 'monotonic_decay_loss': 0.0}, 'dataset': 'MNIST6-180', 'dataset_params': {'rot_interval': 0}, 'augment': 'None', 'wandb': {'project': 'partial_equiv'}, 'device': 'cuda', 'debug': False, 'pretrained': False, 'seed': 0, 'cuda_visible_devices': [-1], 'comment': '', 'no_workers': 4}"
      ]
     },
     "execution_count": 9,
     "metadata": {},
     "output_type": "execute_result"
    }
   ],
   "source": [
    "used_args"
   ]
  },
  {
   "cell_type": "markdown",
   "metadata": {
    "pycharm": {
     "name": "#%% md\n"
    }
   },
   "source": [
    "### Initialize wandb"
   ]
  },
  {
   "cell_type": "code",
   "execution_count": 10,
   "metadata": {
    "pycharm": {
     "name": "#%%\n"
    },
    "scrolled": true
   },
   "outputs": [
    {
     "name": "stderr",
     "output_type": "stream",
     "text": [
      "/home/romerogudw/anaconda3/envs/partial_equiv/lib/python3.8/site-packages/IPython/html.py:12: ShimWarning: The `IPython.html` package has been deprecated since IPython 4.0. You should import from `notebook` instead. `IPython.html.widgets` has moved to `ipywidgets`.\n",
      "  warn(\"The `IPython.html` package has been deprecated since IPython 4.0. \"\n",
      "\u001b[34m\u001b[1mwandb\u001b[0m: W&B syncing is set to `offline` in this directory.  Run `wandb online` or set WANDB_MODE=online to enable cloud syncing.\n"
     ]
    },
    {
     "data": {
      "text/html": [
       "<h1>Run(zg4ff7a2)</h1><iframe src=\"\" style=\"border:none;width:100%;height:400px\"></iframe>"
      ],
      "text/plain": [
       "<wandb.sdk.wandb_run.Run at 0x7f0a9a6a0070>"
      ]
     },
     "execution_count": 10,
     "metadata": {},
     "output_type": "execute_result"
    }
   ],
   "source": [
    "# Initialize weight and bias\n",
    "os.environ[\"WANDB_MODE\"] = \"dryrun\"\n",
    "os.environ[\"HYDRA_FULL_ERROR\"] = \"1\"\n",
    "\n",
    "wandb.init(\n",
    "    project=used_args.wandb.project,\n",
    "    entity=\"dwromero\",\n",
    "    reinit=True,\n",
    ")"
   ]
  },
  {
   "cell_type": "markdown",
   "metadata": {
    "pycharm": {
     "name": "#%% md\n"
    }
   },
   "source": [
    "#### Create model and load checkpoint"
   ]
  },
  {
   "cell_type": "code",
   "execution_count": 11,
   "metadata": {
    "pycharm": {
     "name": "#%%\n"
    }
   },
   "outputs": [
    {
     "name": "stdout",
     "output_type": "stream",
     "text": [
      "Automatic Parameters:\n",
      " dataset = MNIST6-180, net_type = CKResNet, in_channels = 1,out_channels = 2, sampling_method = SamplingMethods.RANDOM\n",
      "Block 1/1\n",
      "Number of parameters: 17063\n"
     ]
    },
    {
     "data": {
      "text/plain": [
       "<All keys matched successfully>"
      ]
     },
     "execution_count": 11,
     "metadata": {},
     "output_type": "execute_result"
    }
   ],
   "source": [
    "if not isinstance(used_args.base_group.sampling_method, str):\n",
    "    used_args.base_group.sampling_method = 'random'\n",
    "\n",
    "model = construct_model(used_args)\n",
    "\n",
    "# load checkpoint\n",
    "model_checkpoint = wandb.restore('final_model.pt', run_path)\n",
    "model.load_state_dict(\n",
    "            torch.load(model_checkpoint.name, map_location=used_args.device)[\"model\"],\n",
    "            strict=True,\n",
    "        )"
   ]
  },
  {
   "cell_type": "markdown",
   "metadata": {
    "pycharm": {
     "name": "#%% md\n"
    }
   },
   "source": [
    "### Get samples from test dataset"
   ]
  },
  {
   "cell_type": "code",
   "execution_count": 12,
   "metadata": {
    "pycharm": {
     "name": "#%%\n"
    }
   },
   "outputs": [
    {
     "name": "stderr",
     "output_type": "stream",
     "text": [
      "/home/romerogudw/PycharmProjects/partial_equivariance/datasets/mnist6_180.py:320: UserWarning: The given NumPy array is not writeable, and PyTorch does not support non-writeable tensors. This means you can write to the underlying (supposedly non-writeable) NumPy array using the tensor. You may want to copy the array to protect its data or make it writeable before converting it to a tensor. This type of warning will be suppressed for the rest of this program. (Triggered internally at  /opt/conda/conda-bld/pytorch_1623448278899/work/torch/csrc/utils/tensor_numpy.cpp:180.)\n",
      "  return torch.from_numpy(parsed.astype(m[2], copy=False)).view(*s)\n"
     ]
    }
   ],
   "source": [
    "dataset = MNIST6_180(\n",
    "    partition='test',\n",
    "    augment=used_args.augment,\n",
    "    root='./data',\n",
    ")\n",
    "\n",
    "data_loader = torch.utils.data.DataLoader(\n",
    "        dataset,\n",
    "        batch_size=1,\n",
    "        shuffle=False,\n",
    "        num_workers=1,\n",
    "        pin_memory=False,\n",
    "    )"
   ]
  },
  {
   "cell_type": "code",
   "execution_count": 13,
   "metadata": {
    "pycharm": {
     "name": "#%%\n"
    }
   },
   "outputs": [],
   "source": [
    "import matplotlib.pyplot as plt"
   ]
  },
  {
   "cell_type": "code",
   "execution_count": 14,
   "metadata": {
    "pycharm": {
     "name": "#%%\n"
    }
   },
   "outputs": [
    {
     "data": {
      "image/png": "[encoded data removed]",
      "text/plain": [
       "<Figure size 432x288 with 1 Axes>"
      ]
     },
     "metadata": {
      "needs_background": "light"
     },
     "output_type": "display_data"
    },
    {
     "name": "stderr",
     "output_type": "stream",
     "text": [
      "/home/romerogudw/PycharmProjects/partial_equivariance/partial_equiv/partial_gconv/pool.py:22: UserWarning: Named tensors and all their associated APIs are an experimental feature and subject to change. Please do not use them for anything important until they are released as stable. (Triggered internally at  /opt/conda/conda-bld/pytorch_1623448278899/work/c10/core/TensorImpl.h:1156.)\n",
      "  out = torch.max_pool2d(\n"
     ]
    },
    {
     "data": {
      "image/png": "[encoded data removed]",
      "text/plain": [
       "<Figure size 432x288 with 1 Axes>"
      ]
     },
     "metadata": {
      "needs_background": "light"
     },
     "output_type": "display_data"
    },
    {
     "name": "stderr",
     "output_type": "stream",
     "text": [
      "/tmp/ipykernel_50170/734438881.py:35: UserWarning: To copy construct from a tensor, it is recommended to use sourceTensor.clone().detach() or sourceTensor.clone().detach().requires_grad_(True), rather than torch.tensor(sourceTensor).\n",
      "  (torch.tensor(orientations) < 0.5).sum()\n"
     ]
    },
    {
     "data": {
      "text/plain": [
       "tensor(181)"
      ]
     },
     "execution_count": 14,
     "metadata": {},
     "output_type": "execute_result"
    }
   ],
   "source": [
    "orientations = torch.linspace(-180, 180, 361)\n",
    "predictions = []\n",
    "\n",
    "with torch.no_grad():\n",
    "    # Iterate through data\n",
    "    data_iterator = iter(data_loader)\n",
    "\n",
    "    for _ in range(1):\n",
    "        next(data_iterator)\n",
    "\n",
    "    data = next(data_iterator)\n",
    "    inputs, labels = data\n",
    "\n",
    "    plt.figure()\n",
    "    plt.imshow(inputs[0, 0])\n",
    "    plt.show()\n",
    "\n",
    "    for rotation in orientations:\n",
    "        inputs_rot = tv_F.rotate(inputs.clone(), angle=rotation.item(), interpolation=InterpolationMode.BILINEAR)\n",
    "\n",
    "        inputs_rot = inputs_rot.to(used_args.device)\n",
    "\n",
    "        outputs = model(inputs_rot)\n",
    "\n",
    "        _, predicted = torch.max(outputs.data, 1)\n",
    "        prob_class_1 = torch.softmax(outputs, dim=-1)[0, 1]\n",
    "\n",
    "        predictions.append(prob_class_1.detach().cpu().item())\n",
    "\n",
    "\n",
    "plt.figure()\n",
    "plt.plot(orientations, predictions)\n",
    "plt.show()\n",
    "\n",
    "(torch.tensor(orientations) < 0.5).sum()"
   ]
  },
  {
   "cell_type": "code",
   "execution_count": null,
   "metadata": {
    "pycharm": {
     "name": "#%%\n"
    }
   },
   "outputs": [],
   "source": []
  }
 ],
 "metadata": {
  "kernelspec": {
   "display_name": "Python 3 (ipykernel)",
   "language": "python",
   "name": "python3"
  },
  "language_info": {
   "codemirror_mode": {
    "name": "ipython",
    "version": 3
   },
   "file_extension": ".py",
   "mimetype": "text/x-python",
   "name": "python",
   "nbconvert_exporter": "python",
   "pygments_lexer": "ipython3",
   "version": "3.8.11"
  }
 },
 "nbformat": 4,
 "nbformat_minor": 1
}
